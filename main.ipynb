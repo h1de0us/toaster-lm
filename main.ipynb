{
 "cells": [
  {
   "cell_type": "code",
   "execution_count": 48,
   "id": "82ced873",
   "metadata": {
    "cellId": "f8rndlzh54hseu6mmd954"
   },
   "outputs": [
    {
     "name": "stdout",
     "output_type": "stream",
     "text": [
      "[Errno 2] No such file or directory: '/home/jupyter/work/resources/toaster-lm/toaster-lm'\n"
     ]
    },
    {
     "name": "stderr",
     "output_type": "stream",
     "text": [
      "Cloning into 'toaster-lm'...\n"
     ]
    }
   ],
   "source": [
    "#!g2.1\n",
    "!rm -rf toaster-lm\n",
    "!git clone https://github.com/h1de0us/toaster-lm.git"
   ]
  },
  {
   "cell_type": "code",
   "execution_count": 21,
   "id": "e1809263",
   "metadata": {
    "cellId": "ymxjcvx8sjgbn0i9dk0n"
   },
   "outputs": [
    {
     "name": "stdout",
     "output_type": "stream",
     "text": [
      "4967871\n"
     ]
    }
   ],
   "source": [
    "!bash run.sh download_data\n",
    "!cd .. # return to toaster-lm\n",
    "!python3 parse_stories.py"
   ]
  },
  {
   "cell_type": "code",
   "execution_count": 7,
   "id": "1c8bfef4",
   "metadata": {
    "cellId": "n414ciqr79cy1f1zlz58zd",
    "execution_id": "6b3a30af-3713-4159-b416-3e4f767bfead"
   },
   "outputs": [],
   "source": [
    "# %pip install -r requirements.txt"
   ]
  },
  {
   "cell_type": "code",
   "execution_count": 50,
   "id": "d4474569",
   "metadata": {
    "cellId": "t9zgrjsqtkpp7siixozf7"
   },
   "outputs": [],
   "source": [
    "#!g2.1\n",
    "from src.model import TransformerDecoder\n",
    "\n",
    "from src.dataset import TextDataset\n",
    "\n",
    "%load_ext autoreload\n",
    "%autoreload 2"
   ]
  },
  {
   "cell_type": "code",
   "execution_count": 54,
   "id": "2cc08c27",
   "metadata": {
    "cellId": "a025zwell246vx5w4sot7"
   },
   "outputs": [],
   "source": [
    "#!g2.1\n",
    "VOCAB_SIZE = 3000\n",
    "MAX_LENGTH = 256\n",
    "\n",
    "\n",
    "text_dataset = TextDataset(data_file=\"stories.txt\",\n",
    "                           train=True,\n",
    "                           sp_model_prefix=\"sp_model\",\n",
    "                           vocab_size=VOCAB_SIZE,\n",
    "                           max_length=MAX_LENGTH)"
   ]
  },
  {
   "cell_type": "code",
   "execution_count": 58,
   "id": "46afccb8",
   "metadata": {
    "cellId": "vdpl5d016rillob9xa75dq"
   },
   "outputs": [],
   "source": [
    "#!g2.1\n",
    "import torch\n",
    "from src.trainloop import train\n",
    "from torch.utils.data import DataLoader\n",
    "from src.utils import collate_fn\n",
    "\n",
    "BATCH_SIZE = 512\n",
    "NUM_EPOCHS = 5\n",
    "\n",
    "train_loader = DataLoader(text_dataset, batch_size=BATCH_SIZE, collate_fn=collate_fn, pin_memory=True, shuffle=True)\n",
    "val_loader = DataLoader(text_dataset, batch_size=BATCH_SIZE, collate_fn=collate_fn, pin_memory=True, shuffle=False)"
   ]
  },
  {
   "cell_type": "code",
   "execution_count": 53,
   "id": "d6273ae7",
   "metadata": {
    "cellId": "wq4iwq6f9a9x4tdohepbnk"
   },
   "outputs": [
    {
     "name": "stderr",
     "output_type": "stream",
     "text": [
      "\u001b[34m\u001b[1mwandb\u001b[0m: Currently logged in as: \u001b[33mh1de0us\u001b[0m. Use \u001b[1m`wandb login --relogin`\u001b[0m to force relogin\n",
      "\u001b[34m\u001b[1mwandb\u001b[0m: Tracking run with wandb version 0.16.0\n",
      "\u001b[34m\u001b[1mwandb\u001b[0m: Run data is saved locally in \u001b[35m\u001b[1m/home/jupyter/work/resources/toaster-lm/wandb/run-20231204_012543-q1dkcnyn\u001b[0m\n",
      "\u001b[34m\u001b[1mwandb\u001b[0m: Run \u001b[1m`wandb offline`\u001b[0m to turn off syncing.\n",
      "\u001b[34m\u001b[1mwandb\u001b[0m: Syncing run \u001b[33msparkling-water-30\u001b[0m\n",
      "\u001b[34m\u001b[1mwandb\u001b[0m: ⭐️ View project at \u001b[34m\u001b[4mhttps://wandb.ai/h1de0us/LLM-Homework\u001b[0m\n",
      "\u001b[34m\u001b[1mwandb\u001b[0m: 🚀 View run at \u001b[34m\u001b[4mhttps://wandb.ai/h1de0us/LLM-Homework/runs/q1dkcnyn\u001b[0m\n"
     ]
    },
    {
     "data": {
      "text/html": [
       "<button onClick=\"this.nextSibling.style.display='block';this.style.display='none';\">Display W&B run</button><iframe src='https://wandb.ai/h1de0us/LLM-Homework/runs/q1dkcnyn?jupyter=true' style='border:none;width:100%;height:420px;display:none;'></iframe>"
      ],
      "text/plain": [
       "<wandb.sdk.wandb_run.Run at 0x7fbe47119a80>"
      ]
     },
     "execution_count": 53,
     "metadata": {},
     "output_type": "execute_result"
    }
   ],
   "source": [
    "#!g2.1\n",
    "import os\n",
    "os.environ[\"WANDB_API_KEY\"] = \"<YOUR_API_KEY>\"\n",
    "\n",
    "import wandb\n",
    "wandb.login()\n",
    "\n",
    "wandb.init(project=\"<YOUR_PROJECT_NAME>\")"
   ]
  },
  {
   "cell_type": "code",
   "execution_count": 59,
   "id": "0dffe860",
   "metadata": {
    "cellId": "z5gwqkjxg7m8a4ubujj1"
   },
   "outputs": [
    {
     "name": "stdout",
     "output_type": "stream",
     "text": [
      "Number of parameters in the model: 29836216\n"
     ]
    }
   ],
   "source": [
    "#!g2.1\n",
    "device = torch.device(\"cuda\" if torch.cuda.is_available() else \"cpu\")\n",
    "\n",
    "model = TransformerDecoder(vocab_size=text_dataset.vocab_size,\n",
    "                            embed_dim=768,\n",
    "                            n_blocks=8,\n",
    "                            n_head=8,\n",
    "                            ff_dim=512,\n",
    "                            text_dataset=text_dataset,\n",
    "                          use_flash_attention=True)\n",
    "print(f\"Number of parameters in the model: {sum(p.numel() for p in model.parameters())}\")\n",
    "model = model.to(device)\n",
    "optimizer = torch.optim.Adam(model.parameters(), lr=3e-4, betas=(0.9, 0.98), eps=1e-9)\n",
    "scheduler = torch.optim.lr_scheduler.CosineAnnealingWarmRestarts(optimizer, T_0=9500)\n",
    "criterion = torch.nn.CrossEntropyLoss(ignore_index=text_dataset.pad_id)"
   ]
  },
  {
   "cell_type": "code",
   "execution_count": null,
   "id": "cfd56132",
   "metadata": {
    "cellId": "mbnpp35kd6ia2vxdo98ml9",
    "execution_id": "9d1ec453-db2d-4f5d-842d-16375645506c"
   },
   "outputs": [],
   "source": [
    "#!g2.1\n",
    "train_losses, test_losses = train(model=model, optimizer=optimizer, criterion=criterion,\n",
    "                                  train_loader=train_loader, test_loader=val_loader, \n",
    "                                  num_epochs=NUM_EPOCHS,\n",
    "                                  dataset=text_dataset,\n",
    "                                  scheduler=scheduler, \n",
    "                                  clip_grad=False,\n",
    "                                  max_gradient_norm=1., \n",
    "                                  log_epoch=1)"
   ]
  }
 ],
 "metadata": {
  "language_info": {
   "codemirror_mode": {
    "name": "ipython",
    "version": 3
   },
   "file_extension": ".py",
   "mimetype": "text/x-python",
   "name": "python",
   "nbconvert_exporter": "python",
   "pygments_lexer": "ipython3",
   "version": "3.7.7"
  },
  "notebookId": "c05ff456-dbb8-4b31-9154-92ba7ec6ac90",
  "notebookPath": "Untitled.ipynb"
 },
 "nbformat": 4,
 "nbformat_minor": 5
}
