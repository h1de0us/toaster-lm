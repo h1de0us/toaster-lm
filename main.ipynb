{
 "cells": [
  {
   "cell_type": "code",
   "execution_count": 12,
   "metadata": {},
   "outputs": [
    {
     "name": "stdout",
     "output_type": "stream",
     "text": [
      "The autoreload extension is already loaded. To reload it, use:\n",
      "  %reload_ext autoreload\n"
     ]
    }
   ],
   "source": [
    "from model import TransformerDecoder\n",
    "\n",
    "from dataset import TextDataset\n",
    "\n",
    "%load_ext autoreload\n",
    "%autoreload 2"
   ]
  },
  {
   "cell_type": "code",
   "execution_count": 5,
   "metadata": {},
   "outputs": [
    {
     "name": "stderr",
     "output_type": "stream",
     "text": [
      "trainer_interface.cc(378) LOG(WARNING) Found too long line (4928 > 4192).\n",
      "trainer_interface.cc(380) LOG(WARNING) Too long lines are skipped in the training.\n",
      "trainer_interface.cc(381) LOG(WARNING) The maximum length can be changed with --max_sentence_length=<size> flag.\n",
      "trainer_interface.cc(122) LOG(WARNING) Too many sentences are loaded! (5595306), which may slow down training.\n",
      "trainer_interface.cc(124) LOG(WARNING) Consider using --input_sentence_size=<size> and --shuffle_input_sentence=true.\n",
      "trainer_interface.cc(127) LOG(WARNING) They allow to randomly sample <size> sentences from the entire corpus.\n"
     ]
    }
   ],
   "source": [
    "# we want to train our tokenizer on the whole dataset\n",
    "\n",
    "text_dataset = TextDataset(data_file=\"stories.txt\",\n",
    "                            train=True,\n",
    "                           sp_model_prefix=\"sp_model\",\n",
    "                           vocab_size=4000,)"
   ]
  },
  {
   "cell_type": "code",
   "execution_count": 52,
   "metadata": {},
   "outputs": [],
   "source": [
    "\n",
    "!python3 parse_stories.py"
   ]
  },
  {
   "cell_type": "code",
   "execution_count": 85,
   "metadata": {},
   "outputs": [],
   "source": [
    "!head -n 128 short_stories.txt > train.txt\n",
    "!tail -n 10 short_stories.txt > test.txt\n",
    "\n",
    "!head -n 128 stories.txt > large_train.txt\n",
    "!tail -n 64 stories.txt > large_test.txt"
   ]
  },
  {
   "cell_type": "code",
   "execution_count": 86,
   "metadata": {},
   "outputs": [],
   "source": [
    "import torch\n",
    "from trainloop import train\n",
    "from torch.utils.data import DataLoader\n",
    "from utils import collate_fn\n",
    "\n",
    "BATCH_SIZE = 64\n",
    "NUM_EPOCHS = 300\n",
    "\n",
    "train_set = TextDataset(data_file=\"large_test.txt\", train=True, sp_model_prefix=\"sp_model\", vocab_size=4000,)\n",
    "valid_set = TextDataset(data_file=\"large_test.txt\", train=True, sp_model_prefix=\"sp_model\", vocab_size=4000,)\n",
    "train_loader = DataLoader(train_set, batch_size=BATCH_SIZE, collate_fn=collate_fn)\n",
    "val_loader = DataLoader(valid_set, batch_size=BATCH_SIZE, collate_fn=collate_fn)"
   ]
  },
  {
   "cell_type": "code",
   "execution_count": 82,
   "metadata": {},
   "outputs": [
    {
     "data": {
      "text/plain": [
       "(tensor([   1,  136,  141,    6,  115, 3989,  118,   30,    6,  113,  179,  127,\n",
       "           62, 3983,   44,  169,   13, 1264,   75,   53, 3775,   15,  284,  468,\n",
       "         1159, 3983,  104,   70, 3989,   62, 3993, 3976,  246,  437,   53,    6,\n",
       "          271,  789,   13,  917, 3983,   48,   30,  102,  650,   15,  304,   62,\n",
       "          417,  269,    6, 1413, 3983,   93,  104,   70, 3989,   62,  159,  314,\n",
       "           15,   48,   30,  135,  975, 3983,    8,  579,   30, 2377,   15,  503,\n",
       "         2550, 3979, 3983,   62,  280, 3993, 3969,  124,   13,  859,   19,   53,\n",
       "          468,  789, 3989,  102,   44,  386,   13,  708,  399, 3983,   62, 3993,\n",
       "         3976,  246,  126,   89,   44,   30,  222,   15,  221,   53,  980, 3983,\n",
       "           62,  372,   53,   89,   44,  280, 3993, 3969,  124,   13,  201,  314,\n",
       "           15,  351,   53,  789, 1168, 3983,   53,  246,  307,   15]),\n",
       " 242)"
      ]
     },
     "execution_count": 82,
     "metadata": {},
     "output_type": "execute_result"
    }
   ],
   "source": [
    "train_set[1]"
   ]
  },
  {
   "cell_type": "code",
   "execution_count": 83,
   "metadata": {},
   "outputs": [
    {
     "data": {
      "text/html": [
       "Tracking run with wandb version 0.16.0"
      ],
      "text/plain": [
       "<IPython.core.display.HTML object>"
      ]
     },
     "metadata": {},
     "output_type": "display_data"
    },
    {
     "data": {
      "text/html": [
       "Run data is saved locally in <code>/Users/h1de0us/uni/llm-homework/wandb/run-20231120_034421-pnoedq2h</code>"
      ],
      "text/plain": [
       "<IPython.core.display.HTML object>"
      ]
     },
     "metadata": {},
     "output_type": "display_data"
    },
    {
     "data": {
      "text/html": [
       "Syncing run <strong><a href='https://wandb.ai/h1de0us/LLM-Homework/runs/pnoedq2h' target=\"_blank\">pretty-moon-9</a></strong> to <a href='https://wandb.ai/h1de0us/LLM-Homework' target=\"_blank\">Weights & Biases</a> (<a href='https://wandb.me/run' target=\"_blank\">docs</a>)<br/>"
      ],
      "text/plain": [
       "<IPython.core.display.HTML object>"
      ]
     },
     "metadata": {},
     "output_type": "display_data"
    },
    {
     "data": {
      "text/html": [
       " View project at <a href='https://wandb.ai/h1de0us/LLM-Homework' target=\"_blank\">https://wandb.ai/h1de0us/LLM-Homework</a>"
      ],
      "text/plain": [
       "<IPython.core.display.HTML object>"
      ]
     },
     "metadata": {},
     "output_type": "display_data"
    },
    {
     "data": {
      "text/html": [
       " View run at <a href='https://wandb.ai/h1de0us/LLM-Homework/runs/pnoedq2h' target=\"_blank\">https://wandb.ai/h1de0us/LLM-Homework/runs/pnoedq2h</a>"
      ],
      "text/plain": [
       "<IPython.core.display.HTML object>"
      ]
     },
     "metadata": {},
     "output_type": "display_data"
    },
    {
     "data": {
      "text/html": [
       "<button onClick=\"this.nextSibling.style.display='block';this.style.display='none';\">Display W&B run</button><iframe src='https://wandb.ai/h1de0us/LLM-Homework/runs/pnoedq2h?jupyter=true' style='border:none;width:100%;height:420px;display:none;'></iframe>"
      ],
      "text/plain": [
       "<wandb.sdk.wandb_run.Run at 0x3010ccac0>"
      ]
     },
     "execution_count": 83,
     "metadata": {},
     "output_type": "execute_result"
    }
   ],
   "source": [
    "import wandb\n",
    "wandb.login()\n",
    "\n",
    "wandb.init(project=\"LLM-Homework\")"
   ]
  },
  {
   "cell_type": "code",
   "execution_count": 87,
   "metadata": {},
   "outputs": [
    {
     "name": "stdout",
     "output_type": "stream",
     "text": [
      "Number of parameters in the model: 566432\n"
     ]
    },
    {
     "data": {
      "text/html": [
       "Tracking run with wandb version 0.16.0"
      ],
      "text/plain": [
       "<IPython.core.display.HTML object>"
      ]
     },
     "metadata": {},
     "output_type": "display_data"
    },
    {
     "data": {
      "text/html": [
       "Run data is saved locally in <code>/Users/h1de0us/uni/llm-homework/wandb/run-20231120_034621-gquaec5u</code>"
      ],
      "text/plain": [
       "<IPython.core.display.HTML object>"
      ]
     },
     "metadata": {},
     "output_type": "display_data"
    },
    {
     "data": {
      "text/html": [
       "Syncing run <strong><a href='https://wandb.ai/h1de0us/LLM-Homework/runs/gquaec5u' target=\"_blank\">toasty-pyramid-11</a></strong> to <a href='https://wandb.ai/h1de0us/LLM-Homework' target=\"_blank\">Weights & Biases</a> (<a href='https://wandb.me/run' target=\"_blank\">docs</a>)<br/>"
      ],
      "text/plain": [
       "<IPython.core.display.HTML object>"
      ]
     },
     "metadata": {},
     "output_type": "display_data"
    },
    {
     "data": {
      "text/html": [
       " View project at <a href='https://wandb.ai/h1de0us/LLM-Homework' target=\"_blank\">https://wandb.ai/h1de0us/LLM-Homework</a>"
      ],
      "text/plain": [
       "<IPython.core.display.HTML object>"
      ]
     },
     "metadata": {},
     "output_type": "display_data"
    },
    {
     "data": {
      "text/html": [
       " View run at <a href='https://wandb.ai/h1de0us/LLM-Homework/runs/gquaec5u' target=\"_blank\">https://wandb.ai/h1de0us/LLM-Homework/runs/gquaec5u</a>"
      ],
      "text/plain": [
       "<IPython.core.display.HTML object>"
      ]
     },
     "metadata": {},
     "output_type": "display_data"
    },
    {
     "data": {
      "text/html": [
       "<style>\n",
       "    table.wandb td:nth-child(1) { padding: 0 10px; text-align: left ; width: auto;} td:nth-child(2) {text-align: left ; width: 100%}\n",
       "    .wandb-row { display: flex; flex-direction: row; flex-wrap: wrap; justify-content: flex-start; width: 100% }\n",
       "    .wandb-col { display: flex; flex-direction: column; flex-basis: 100%; flex: 1; padding: 10px; }\n",
       "    </style>\n",
       "<div class=\"wandb-row\"><div class=\"wandb-col\"><h3>Run history:</h3><br/><table class=\"wandb\"><tr><td>test_loss</td><td>██▇▇▇▆▆▅▅▅▅▄▄▄▄▄▄▃▃▃▃▃▃▃▃▂▂▂▂▂▂▂▂▂▂▁▁▁▁▁</td></tr><tr><td>training_loss</td><td>██▇▇▇▆▆▅▅▅▅▄▄▄▄▄▄▃▃▃▃▃▃▃▃▂▂▂▂▂▂▂▂▂▁▁▁▁▁▁</td></tr></table><br/></div><div class=\"wandb-col\"><h3>Run summary:</h3><br/><table class=\"wandb\"><tr><td>test_loss</td><td>3.89335</td></tr><tr><td>training_loss</td><td>3.97092</td></tr></table><br/></div></div>"
      ],
      "text/plain": [
       "<IPython.core.display.HTML object>"
      ]
     },
     "metadata": {},
     "output_type": "display_data"
    },
    {
     "data": {
      "text/html": [
       " View run <strong style=\"color:#cdcd00\">toasty-pyramid-11</strong> at: <a href='https://wandb.ai/h1de0us/LLM-Homework/runs/gquaec5u' target=\"_blank\">https://wandb.ai/h1de0us/LLM-Homework/runs/gquaec5u</a><br/>Synced 4 W&B file(s), 0 media file(s), 0 artifact file(s) and 0 other file(s)"
      ],
      "text/plain": [
       "<IPython.core.display.HTML object>"
      ]
     },
     "metadata": {},
     "output_type": "display_data"
    },
    {
     "data": {
      "text/html": [
       "Find logs at: <code>./wandb/run-20231120_034621-gquaec5u/logs</code>"
      ],
      "text/plain": [
       "<IPython.core.display.HTML object>"
      ]
     },
     "metadata": {},
     "output_type": "display_data"
    }
   ],
   "source": [
    "device = torch.device(\"cuda\" if torch.cuda.is_available() else \"cpu\")\n",
    "\n",
    "model = TransformerDecoder(vocab_size=text_dataset.vocab_size,\n",
    "                            embed_dim=64,\n",
    "                            n_blocks=2,\n",
    "                            n_head=2,\n",
    "                            ff_dim=64,\n",
    "                            text_dataset=text_dataset,)\n",
    "print(f\"Number of parameters in the model: {sum(p.numel() for p in model.parameters())}\")\n",
    "model = model.to(device)\n",
    "optimizer = torch.optim.Adam(model.parameters(), lr=3e-4, betas=(0.9, 0.98), eps=1e-9)\n",
    "criterion = torch.nn.CrossEntropyLoss(ignore_index=text_dataset.pad_id)\n",
    "\n",
    "train_losses, test_losses = train(model=model, optimizer=optimizer, criterion=criterion,\n",
    "                                  train_loader=train_loader, test_loader=val_loader, num_epochs=NUM_EPOCHS)"
   ]
  },
  {
   "cell_type": "code",
   "execution_count": null,
   "metadata": {},
   "outputs": [],
   "source": []
  }
 ],
 "metadata": {
  "kernelspec": {
   "display_name": "Python 3",
   "language": "python",
   "name": "python3"
  },
  "language_info": {
   "codemirror_mode": {
    "name": "ipython",
    "version": 3
   },
   "file_extension": ".py",
   "mimetype": "text/x-python",
   "name": "python",
   "nbconvert_exporter": "python",
   "pygments_lexer": "ipython3",
   "version": "3.10.13"
  },
  "orig_nbformat": 4,
  "vscode": {
   "interpreter": {
    "hash": "0307af043a44265db2c9a403debd739e4936587e30447c2442d225f455272acd"
   }
  }
 },
 "nbformat": 4,
 "nbformat_minor": 2
}
