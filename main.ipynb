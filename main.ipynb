{
 "cells": [
  {
   "cell_type": "code",
   "execution_count": 2,
   "metadata": {},
   "outputs": [],
   "source": [
    "from model import TransformerDecoder\n",
    "\n",
    "from dataset import TextDataset\n",
    "\n",
    "%load_ext autoreload\n",
    "%autoreload 2"
   ]
  },
  {
   "cell_type": "code",
   "execution_count": 11,
   "metadata": {},
   "outputs": [],
   "source": [
    "# we want to train our tokenizer on the whole dataset\n",
    "\n",
    "VOCAB_SIZE = 3000\n",
    "MAX_LENGTH = 512\n",
    "\n",
    "\n",
    "text_dataset = TextDataset(data_file=\"stories.txt\",\n",
    "                           train=True,\n",
    "                           sp_model_prefix=\"sp_model\",\n",
    "                           vocab_size=VOCAB_SIZE,\n",
    "                           max_length=MAX_LENGTH)"
   ]
  },
  {
   "cell_type": "code",
   "execution_count": 4,
   "metadata": {},
   "outputs": [],
   "source": [
    "\n",
    "# !python3 parse_stories.py"
   ]
  },
  {
   "cell_type": "code",
   "execution_count": 5,
   "metadata": {},
   "outputs": [],
   "source": [
    "# !head -n 128 short_stories.txt > train.txt\n",
    "# !tail -n 10 short_stories.txt > test.txt\n",
    "\n",
    "# !head -n 128 stories.txt > large_train.txt\n",
    "# !tail -n 64 stories.txt > large_test.txt"
   ]
  },
  {
   "cell_type": "code",
   "execution_count": 16,
   "metadata": {},
   "outputs": [],
   "source": [
    "import torch\n",
    "from trainloop import train\n",
    "from torch.utils.data import DataLoader\n",
    "from utils import collate_fn\n",
    "\n",
    "BATCH_SIZE = 32\n",
    "NUM_EPOCHS = 600\n",
    "\n",
    "train_set = TextDataset(data_file=\"large_train.txt\", \n",
    "                        train=True, \n",
    "                        sp_model_prefix=\"sp_model\", \n",
    "                        vocab_size=VOCAB_SIZE, \n",
    "                        max_length=MAX_LENGTH)\n",
    "valid_set = TextDataset(data_file=\"large_train.txt\", \n",
    "                        train=True, \n",
    "                        sp_model_prefix=\"sp_model\", \n",
    "                        vocab_size=VOCAB_SIZE,\n",
    "                        max_length=MAX_LENGTH)\n",
    "train_loader = DataLoader(train_set, batch_size=BATCH_SIZE, collate_fn=collate_fn)\n",
    "val_loader = DataLoader(valid_set, batch_size=BATCH_SIZE, collate_fn=collate_fn)"
   ]
  },
  {
   "cell_type": "code",
   "execution_count": 17,
   "metadata": {},
   "outputs": [
    {
     "data": {
      "text/plain": [
       "(tensor([   1,  136,  141,    6,  115,  118,  419,    6,  656,   31,  816,   13,\n",
       "          613, 3983,  260,   70,   13,  613,  266,  201,   13,    8,  656,   15,\n",
       "         3949,  440,   13,    8,  741, 3983,  104,   70,   13,  613,  159,   13,\n",
       "            8,  656,   15,  966,   89,    8,  741,  168,  135, 1168, 3983,   20,\n",
       "          159,   13,    8, 2723,   15,  263,   13, 3949,    8,  741,   75, 3533,\n",
       "         3989,  507,  440, 3983, 3967,    3, 1092,  262,    8,  741,  102, 1168,\n",
       "         3997,    3,   20,  221, 1085, 3983,  420,  239,    6,  113,  179,  816,\n",
       "         1064,  259,  833,  528, 3983,   13,  613,  221, 1064,  980,    8,  741,\n",
       "          168,  102, 1168, 3983, 3967,    3,   18,    3, 3976,  336,  142,   30,\n",
       "          292,   75,  235, 3989,    3,   78, 1064, 3983,   44,  117, 1173, 2966,\n",
       "            8,  741,   15,  928,  235,  436,  468,   12,   27,  338,   63, 3976,\n",
       "         3983,   13,  613,  307,   15,   78, 3989, 3967,    3,   18,  198,  737,\n",
       "           13,  454,    8,  741, 3989,   93,  284,  866,   13,  322,  235,  229,\n",
       "           65,  237,  755,  102,  800,  197,  906,  235,  166, 3983,    3,    8,\n",
       "          943,  110,    8,  767,  198,   89,   48,  198, 2909,   13,  234,  206,\n",
       "         3989,   93,  107,  697,  334,   69, 1869,  228,  110,  435,  871, 1665,\n",
       "         1898, 1060,  353, 3988,  983,  800, 3983,    2,    0,    0,    0,    0,\n",
       "            0,    0,    0,    0,    0,    0,    0,    0,    0,    0,    0,    0,\n",
       "            0,    0,    0,    0,    0,    0,    0,    0,    0,    0,    0,    0,\n",
       "            0,    0,    0,    0,    0,    0,    0,    0,    0,    0,    0,    0,\n",
       "            0,    0,    0,    0,    0,    0,    0,    0,    0,    0,    0,    0,\n",
       "            0,    0,    0,    0,    0,    0,    0,    0,    0,    0,    0,    0,\n",
       "            0,    0,    0,    0,    0,    0,    0,    0,    0,    0,    0,    0,\n",
       "            0,    0,    0,    0,    0,    0,    0,    0,    0,    0,    0,    0,\n",
       "            0,    0,    0,    0,    0,    0,    0,    0,    0,    0,    0,    0,\n",
       "            0,    0,    0,    0,    0,    0,    0,    0,    0,    0,    0,    0,\n",
       "            0,    0,    0,    0,    0,    0,    0,    0,    0,    0,    0,    0,\n",
       "            0,    0,    0,    0,    0,    0,    0,    0,    0,    0,    0,    0,\n",
       "            0,    0,    0,    0,    0,    0,    0,    0,    0,    0,    0,    0,\n",
       "            0,    0,    0,    0,    0,    0,    0,    0,    0,    0,    0,    0,\n",
       "            0,    0,    0,    0,    0,    0,    0,    0,    0,    0,    0,    0,\n",
       "            0,    0,    0,    0,    0,    0,    0,    0,    0,    0,    0,    0,\n",
       "            0,    0,    0,    0,    0,    0,    0,    0,    0,    0,    0,    0,\n",
       "            0,    0,    0,    0,    0,    0,    0,    0,    0,    0,    0,    0,\n",
       "            0,    0,    0,    0,    0,    0,    0,    0,    0,    0,    0,    0,\n",
       "            0,    0,    0,    0,    0,    0,    0,    0,    0,    0,    0,    0,\n",
       "            0,    0,    0,    0,    0,    0,    0,    0,    0,    0,    0,    0,\n",
       "            0,    0,    0,    0,    0,    0,    0,    0,    0,    0,    0,    0,\n",
       "            0,    0,    0,    0,    0,    0,    0,    0,    0,    0,    0,    0,\n",
       "            0,    0,    0,    0,    0,    0,    0,    0,    0,    0,    0,    0,\n",
       "            0,    0,    0,    0,    0,    0,    0,    0,    0,    0,    0,    0,\n",
       "            0,    0,    0,    0,    0,    0,    0,    0,    0,    0,    0,    0,\n",
       "            0,    0,    0,    0,    0,    0,    0,    0,    0,    0]),\n",
       " 200)"
      ]
     },
     "execution_count": 17,
     "metadata": {},
     "output_type": "execute_result"
    }
   ],
   "source": [
    "train_set[1]"
   ]
  },
  {
   "cell_type": "code",
   "execution_count": 18,
   "metadata": {},
   "outputs": [
    {
     "data": {
      "text/html": [
       "Tracking run with wandb version 0.16.0"
      ],
      "text/plain": [
       "<IPython.core.display.HTML object>"
      ]
     },
     "metadata": {},
     "output_type": "display_data"
    },
    {
     "data": {
      "text/html": [
       "Run data is saved locally in <code>/Users/h1de0us/uni/llm-homework/wandb/run-20231129_023317-8a4hxx8y</code>"
      ],
      "text/plain": [
       "<IPython.core.display.HTML object>"
      ]
     },
     "metadata": {},
     "output_type": "display_data"
    },
    {
     "data": {
      "text/html": [
       "Syncing run <strong><a href='https://wandb.ai/h1de0us/LLM-Homework/runs/8a4hxx8y' target=\"_blank\">morning-dream-20</a></strong> to <a href='https://wandb.ai/h1de0us/LLM-Homework' target=\"_blank\">Weights & Biases</a> (<a href='https://wandb.me/run' target=\"_blank\">docs</a>)<br/>"
      ],
      "text/plain": [
       "<IPython.core.display.HTML object>"
      ]
     },
     "metadata": {},
     "output_type": "display_data"
    },
    {
     "data": {
      "text/html": [
       " View project at <a href='https://wandb.ai/h1de0us/LLM-Homework' target=\"_blank\">https://wandb.ai/h1de0us/LLM-Homework</a>"
      ],
      "text/plain": [
       "<IPython.core.display.HTML object>"
      ]
     },
     "metadata": {},
     "output_type": "display_data"
    },
    {
     "data": {
      "text/html": [
       " View run at <a href='https://wandb.ai/h1de0us/LLM-Homework/runs/8a4hxx8y' target=\"_blank\">https://wandb.ai/h1de0us/LLM-Homework/runs/8a4hxx8y</a>"
      ],
      "text/plain": [
       "<IPython.core.display.HTML object>"
      ]
     },
     "metadata": {},
     "output_type": "display_data"
    },
    {
     "data": {
      "text/html": [
       "<button onClick=\"this.nextSibling.style.display='block';this.style.display='none';\">Display W&B run</button><iframe src='https://wandb.ai/h1de0us/LLM-Homework/runs/8a4hxx8y?jupyter=true' style='border:none;width:100%;height:420px;display:none;'></iframe>"
      ],
      "text/plain": [
       "<wandb.sdk.wandb_run.Run at 0x32962d960>"
      ]
     },
     "execution_count": 18,
     "metadata": {},
     "output_type": "execute_result"
    }
   ],
   "source": [
    "import wandb\n",
    "wandb.login()\n",
    "\n",
    "wandb.init(project=\"LLM-Homework\")"
   ]
  },
  {
   "cell_type": "code",
   "execution_count": 19,
   "metadata": {},
   "outputs": [
    {
     "name": "stdout",
     "output_type": "stream",
     "text": [
      "Number of parameters in the model: 566432\n"
     ]
    },
    {
     "data": {
      "text/html": [
       "Finishing last run (ID:8a4hxx8y) before initializing another..."
      ],
      "text/plain": [
       "<IPython.core.display.HTML object>"
      ]
     },
     "metadata": {},
     "output_type": "display_data"
    },
    {
     "name": "stderr",
     "output_type": "stream",
     "text": [
      "wandb: WARNING Source type is set to 'repo' but some required information is missing from the environment. A job will not be created from this run. See https://docs.wandb.ai/guides/launch/create-job\n"
     ]
    },
    {
     "data": {
      "text/html": [
       " View run <strong style=\"color:#cdcd00\">morning-dream-20</strong> at: <a href='https://wandb.ai/h1de0us/LLM-Homework/runs/8a4hxx8y' target=\"_blank\">https://wandb.ai/h1de0us/LLM-Homework/runs/8a4hxx8y</a><br/>Synced 5 W&B file(s), 0 media file(s), 0 artifact file(s) and 0 other file(s)"
      ],
      "text/plain": [
       "<IPython.core.display.HTML object>"
      ]
     },
     "metadata": {},
     "output_type": "display_data"
    },
    {
     "data": {
      "text/html": [
       "Find logs at: <code>./wandb/run-20231129_023317-8a4hxx8y/logs</code>"
      ],
      "text/plain": [
       "<IPython.core.display.HTML object>"
      ]
     },
     "metadata": {},
     "output_type": "display_data"
    },
    {
     "data": {
      "text/html": [
       "Successfully finished last run (ID:8a4hxx8y). Initializing new run:<br/>"
      ],
      "text/plain": [
       "<IPython.core.display.HTML object>"
      ]
     },
     "metadata": {},
     "output_type": "display_data"
    },
    {
     "data": {
      "text/html": [
       "Tracking run with wandb version 0.16.0"
      ],
      "text/plain": [
       "<IPython.core.display.HTML object>"
      ]
     },
     "metadata": {},
     "output_type": "display_data"
    },
    {
     "data": {
      "text/html": [
       "Run data is saved locally in <code>/Users/h1de0us/uni/llm-homework/wandb/run-20231129_023320-wp4wl18s</code>"
      ],
      "text/plain": [
       "<IPython.core.display.HTML object>"
      ]
     },
     "metadata": {},
     "output_type": "display_data"
    },
    {
     "data": {
      "text/html": [
       "Syncing run <strong><a href='https://wandb.ai/h1de0us/LLM-Homework/runs/wp4wl18s' target=\"_blank\">sparkling-field-21</a></strong> to <a href='https://wandb.ai/h1de0us/LLM-Homework' target=\"_blank\">Weights & Biases</a> (<a href='https://wandb.me/run' target=\"_blank\">docs</a>)<br/>"
      ],
      "text/plain": [
       "<IPython.core.display.HTML object>"
      ]
     },
     "metadata": {},
     "output_type": "display_data"
    },
    {
     "data": {
      "text/html": [
       " View project at <a href='https://wandb.ai/h1de0us/LLM-Homework' target=\"_blank\">https://wandb.ai/h1de0us/LLM-Homework</a>"
      ],
      "text/plain": [
       "<IPython.core.display.HTML object>"
      ]
     },
     "metadata": {},
     "output_type": "display_data"
    },
    {
     "data": {
      "text/html": [
       " View run at <a href='https://wandb.ai/h1de0us/LLM-Homework/runs/wp4wl18s' target=\"_blank\">https://wandb.ai/h1de0us/LLM-Homework/runs/wp4wl18s</a>"
      ],
      "text/plain": [
       "<IPython.core.display.HTML object>"
      ]
     },
     "metadata": {},
     "output_type": "display_data"
    },
    {
     "name": "stderr",
     "output_type": "stream",
     "text": [
      "wandb: WARNING Source type is set to 'repo' but some required information is missing from the environment. A job will not be created from this run. See https://docs.wandb.ai/guides/launch/create-job\n"
     ]
    },
    {
     "data": {
      "text/html": [
       "<style>\n",
       "    table.wandb td:nth-child(1) { padding: 0 10px; text-align: left ; width: auto;} td:nth-child(2) {text-align: left ; width: 100%}\n",
       "    .wandb-row { display: flex; flex-direction: row; flex-wrap: wrap; justify-content: flex-start; width: 100% }\n",
       "    .wandb-col { display: flex; flex-direction: column; flex-basis: 100%; flex: 1; padding: 10px; }\n",
       "    </style>\n",
       "<div class=\"wandb-row\"><div class=\"wandb-col\"><h3>Run history:</h3><br/><table class=\"wandb\"><tr><td>test_loss</td><td>█▇▆▅▅▅▄▄▄▄▄▃▃▃▃▃▃▃▃▂▂▂▂▂▂▂▂▂▂▂▂▁▁▁▁▁▁▁▁▁</td></tr><tr><td>training_loss</td><td>█▇▆▅▅▄▄▄▄▃▃▃▃▃▃▃▃▂▂▂▂▂▂▂▂▂▂▂▂▂▁▁▁▁▁▁▁▁▁▁</td></tr></table><br/></div><div class=\"wandb-col\"><h3>Run summary:</h3><br/><table class=\"wandb\"><tr><td>test_loss</td><td>1.56721</td></tr><tr><td>training_loss</td><td>1.82705</td></tr></table><br/></div></div>"
      ],
      "text/plain": [
       "<IPython.core.display.HTML object>"
      ]
     },
     "metadata": {},
     "output_type": "display_data"
    },
    {
     "data": {
      "text/html": [
       " View run <strong style=\"color:#cdcd00\">sparkling-field-21</strong> at: <a href='https://wandb.ai/h1de0us/LLM-Homework/runs/wp4wl18s' target=\"_blank\">https://wandb.ai/h1de0us/LLM-Homework/runs/wp4wl18s</a><br/>Synced 4 W&B file(s), 0 media file(s), 0 artifact file(s) and 0 other file(s)"
      ],
      "text/plain": [
       "<IPython.core.display.HTML object>"
      ]
     },
     "metadata": {},
     "output_type": "display_data"
    },
    {
     "data": {
      "text/html": [
       "Find logs at: <code>./wandb/run-20231129_023320-wp4wl18s/logs</code>"
      ],
      "text/plain": [
       "<IPython.core.display.HTML object>"
      ]
     },
     "metadata": {},
     "output_type": "display_data"
    }
   ],
   "source": [
    "device = torch.device(\"cuda\" if torch.cuda.is_available() else \"cpu\")\n",
    "\n",
    "model = TransformerDecoder(vocab_size=text_dataset.vocab_size,\n",
    "                            embed_dim=64,\n",
    "                            n_blocks=2,\n",
    "                            n_head=2,\n",
    "                            ff_dim=64,\n",
    "                            text_dataset=text_dataset,)\n",
    "print(f\"Number of parameters in the model: {sum(p.numel() for p in model.parameters())}\")\n",
    "model = model.to(device)\n",
    "optimizer = torch.optim.Adam(model.parameters(), lr=3e-4, betas=(0.9, 0.98), eps=1e-9)\n",
    "criterion = torch.nn.CrossEntropyLoss(ignore_index=text_dataset.pad_id)\n",
    "\n",
    "train_losses, test_losses = train(model=model, optimizer=optimizer, criterion=criterion,\n",
    "                                  train_loader=train_loader, test_loader=val_loader, num_epochs=NUM_EPOCHS)"
   ]
  },
  {
   "cell_type": "code",
   "execution_count": 27,
   "metadata": {},
   "outputs": [
    {
     "name": "stdout",
     "output_type": "stream",
     "text": [
      "torch.Size([1, 9]) torch.Size([1, 1])\n",
      "torch.Size([1, 10]) torch.Size([1, 1])\n",
      "torch.Size([1, 11]) torch.Size([1, 1])\n",
      "torch.Size([1, 12]) torch.Size([1, 1])\n",
      "torch.Size([1, 13]) torch.Size([1, 1])\n",
      "torch.Size([1, 14]) torch.Size([1, 1])\n",
      "torch.Size([1, 15]) torch.Size([1, 1])\n",
      "torch.Size([1, 16]) torch.Size([1, 1])\n",
      "torch.Size([1, 17]) torch.Size([1, 1])\n",
      "torch.Size([1, 18]) torch.Size([1, 1])\n",
      "torch.Size([1, 19]) torch.Size([1, 1])\n",
      "torch.Size([1, 20]) torch.Size([1, 1])\n",
      "torch.Size([1, 21]) torch.Size([1, 1])\n",
      "torch.Size([1, 22]) torch.Size([1, 1])\n",
      "torch.Size([1, 23]) torch.Size([1, 1])\n",
      "torch.Size([1, 24]) torch.Size([1, 1])\n",
      "torch.Size([1, 25]) torch.Size([1, 1])\n",
      "torch.Size([1, 26]) torch.Size([1, 1])\n",
      "torch.Size([1, 27]) torch.Size([1, 1])\n",
      "torch.Size([1, 28]) torch.Size([1, 1])\n",
      "torch.Size([1, 29]) torch.Size([1, 1])\n",
      "torch.Size([1, 30]) torch.Size([1, 1])\n",
      "torch.Size([1, 31]) torch.Size([1, 1])\n",
      "torch.Size([1, 32]) torch.Size([1, 1])\n",
      "torch.Size([1, 33]) torch.Size([1, 1])\n",
      "torch.Size([1, 34]) torch.Size([1, 1])\n",
      "torch.Size([1, 35]) torch.Size([1, 1])\n",
      "torch.Size([1, 36]) torch.Size([1, 1])\n",
      "torch.Size([1, 37]) torch.Size([1, 1])\n",
      "torch.Size([1, 38]) torch.Size([1, 1])\n",
      "torch.Size([1, 39]) torch.Size([1, 1])\n",
      "torch.Size([1, 40]) torch.Size([1, 1])\n",
      "torch.Size([1, 41]) torch.Size([1, 1])\n",
      "torch.Size([1, 42]) torch.Size([1, 1])\n",
      "torch.Size([1, 43]) torch.Size([1, 1])\n",
      "torch.Size([1, 44]) torch.Size([1, 1])\n",
      "torch.Size([1, 45]) torch.Size([1, 1])\n",
      "torch.Size([1, 46]) torch.Size([1, 1])\n",
      "torch.Size([1, 47]) torch.Size([1, 1])\n",
      "torch.Size([1, 48]) torch.Size([1, 1])\n",
      "torch.Size([1, 49]) torch.Size([1, 1])\n",
      "torch.Size([1, 50]) torch.Size([1, 1])\n",
      "torch.Size([1, 51]) torch.Size([1, 1])\n",
      "torch.Size([1, 52]) torch.Size([1, 1])\n",
      "torch.Size([1, 53]) torch.Size([1, 1])\n",
      "torch.Size([1, 54]) torch.Size([1, 1])\n",
      "torch.Size([1, 55]) torch.Size([1, 1])\n",
      "torch.Size([1, 56]) torch.Size([1, 1])\n",
      "torch.Size([1, 57]) torch.Size([1, 1])\n",
      "torch.Size([1, 58]) torch.Size([1, 1])\n"
     ]
    },
    {
     "data": {
      "text/plain": [
       "'once upon a time there was a upon a time, there was a bird lived in the boat was a lot of her mombug traffic all day, something around the village him. it was a tree. the wild rabbit knew the itch his toy, it was too there was'"
      ]
     },
     "execution_count": 27,
     "metadata": {},
     "output_type": "execute_result"
    }
   ],
   "source": [
    "model.generate(text_dataset, prompt=\"Once upon a time there was a\", max_len=50)"
   ]
  },
  {
   "cell_type": "code",
   "execution_count": null,
   "metadata": {},
   "outputs": [],
   "source": []
  }
 ],
 "metadata": {
  "kernelspec": {
   "display_name": "Python 3",
   "language": "python",
   "name": "python3"
  },
  "language_info": {
   "codemirror_mode": {
    "name": "ipython",
    "version": 3
   },
   "file_extension": ".py",
   "mimetype": "text/x-python",
   "name": "python",
   "nbconvert_exporter": "python",
   "pygments_lexer": "ipython3",
   "version": "3.10.13"
  },
  "orig_nbformat": 4,
  "vscode": {
   "interpreter": {
    "hash": "0307af043a44265db2c9a403debd739e4936587e30447c2442d225f455272acd"
   }
  }
 },
 "nbformat": 4,
 "nbformat_minor": 2
}
